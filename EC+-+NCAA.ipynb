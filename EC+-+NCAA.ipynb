{
 "cells": [
  {
   "cell_type": "markdown",
   "metadata": {},
   "source": [
    "# NCAA Basketball Championship Predictions"
   ]
  },
  {
   "cell_type": "markdown",
   "metadata": {},
   "source": [
    "The NCAA (National Collegiate Athletic Association) collects detailed data on college basketball teams, including various statistics such as Adjusted Offensive Efficiency, Adjusted Defensive Efficiency, Effective Field Goal Percentage, Turnover Percentage Allowed, etc. We have packaged this data into a CSV file named cbb.csv that we got from a kaggle dataset.\n",
    "\n",
    "In this notebook, we will explore the dataset and build predictive models to forecast the outcomes of NCAA basketball games based on team statistics. The goal is to analyze which factors contribute most significantly to a team's success in winning the championship."
   ]
  },
  {
   "cell_type": "markdown",
   "metadata": {},
   "source": [
    "### Dataset:\n",
    "\n",
    "The dataset (`cbb.csv`) includes information on various college basketball teams, such as:\n",
    "\n",
    "- **G:** Number of games played\n",
    "- **W:** Number of games won\n",
    "- **ADJOE:** Adjusted Offensive Efficiency (An estimate of the offensive efficiency, i.e., points scored per 100 possessions, a team would have against the average Division I defense)\n",
    "- **ADJDE:** Adjusted Defensive Efficiency (An estimate of the defensive efficiency, i.e., points allowed per 100 possessions, a team would have against the average Division I offense)\n",
    "- **BARTHAG:** Power Rating (Chance of beating an average Division I team)\n",
    "- **EFG_O:** Effective Field Goal Percentage Shot\n",
    "- **EFG_D:** Effective Field Goal Percentage Allowed\n",
    "- **TOR:** Turnover Percentage Allowed (Turnover Rate)\n",
    "- **TORD:** Turnover Percentage Forced (Turnover Rate)\n",
    "- **ORB:** Offensive Rebound Percentage\n",
    "- **DRB:** Defensive Rebound Percentage\n",
    "- **FTR:** Free Throw Rate (Number of Free Throws Attempted Per Field Goal Attempted)\n",
    "- **FTRD:** Free Throw Rate Allowed (Number of Free Throws Attempted Per Field Goal Attempted by Opponents)\n",
    "- **2P_O:** Two-Point Field Goal Percentage Shot\n",
    "- **2P_D:** Two-Point Field Goal Percentage Allowed\n",
    "- **3P_O:** Three-Point Field Goal Percentage Shot\n",
    "- **3P_D:** Three-Point Field Goal Percentage Allowed\n",
    "- **ADJ_T:** Adjusted Tempo (An estimate of the tempo of a team, i.e., number of possessions per 40 minutes, adjusted for opponent and game factors)\n",
    "- **WAB:** Wins Above Bubble (The bubble refers to the cutoff between teams who make the NCAA tournament and those who do not)\n",
    "- **POSTSEASON:** Postseason Outcome (e.g., \"2ND\" for runner-up, \"Champions\" for winner, or NaN for not making the postseason)\n",
    "- **SEED:** Seed in the NCAA tournament\n",
    "- **YEAR:** Year of the data\n"
   ]
  },
  {
   "cell_type": "markdown",
   "metadata": {},
   "source": [
    "# Hypothesis:\n",
    "We hypothesize that certain team statistics, such as Adjusted Offensive Efficiency, Adjusted Defensive Efficiency, and Effective Field Goal Percentage, will be strong predictors of a team's success in winning the NCAA basketball championship. We aim to identify the years when no 1, 2, or 3 seed won the tournament and examine whether this aligns with having low ADJOE and ADJDE values. Additionally, we will determine which teams have had very high ADJOE and ADJDE values but have missed out on both making the final 4 and winning a title. Over the last 20 years, each year's champion has ranked in the top 25 in both ADJOE and ADJDE among all NCAA teams.\n",
    "\n"
   ]
  },
  {
   "cell_type": "code",
   "execution_count": 49,
   "metadata": {},
   "outputs": [
    {
     "name": "stdout",
     "output_type": "stream",
     "text": [
      "             TEAM CONF   G   W  ADJOE  ADJDE  BARTHAG  EFG_O  EFG_D   TOR  \\\n",
      "0  North Carolina  ACC  40  33  123.3   94.9   0.9531   52.6   48.1  15.4   \n",
      "1       Wisconsin  B10  40  36  129.1   93.6   0.9758   54.8   47.7  12.4   \n",
      "2        Michigan  B10  40  33  114.4   90.4   0.9375   53.9   47.7  14.0   \n",
      "3      Texas Tech  B12  38  31  115.2   85.2   0.9696   53.5   43.0  17.7   \n",
      "4         Gonzaga  WCC  39  37  117.8   86.3   0.9728   56.6   41.1  16.2   \n",
      "\n",
      "   ...  FTRD  2P_O  2P_D  3P_O  3P_D  ADJ_T   WAB  POSTSEASON  SEED  YEAR  \n",
      "0  ...  30.4  53.9  44.6  32.7  36.2   71.7   8.6         2ND   1.0  2016  \n",
      "1  ...  22.4  54.8  44.7  36.5  37.5   59.3  11.3         2ND   1.0  2015  \n",
      "2  ...  30.0  54.7  46.8  35.2  33.2   65.9   6.9         2ND   3.0  2018  \n",
      "3  ...  36.6  52.8  41.9  36.5  29.7   67.5   7.0         2ND   3.0  2019  \n",
      "4  ...  26.9  56.3  40.0  38.2  29.0   71.5   7.7         2ND   1.0  2017  \n",
      "\n",
      "[5 rows x 24 columns]\n"
     ]
    }
   ],
   "source": [
    "import numpy as np\n",
    "import pandas as pd\n",
    "import pandas as pd\n",
    "\n",
    "# Load the CSV file into a DataFrame\n",
    "df = pd.read_csv(\"cbb.csv\")\n",
    "\n",
    "# Display the first few rows of the DataFrame\n",
    "print(df.head(5))"
   ]
  },
  {
   "cell_type": "markdown",
   "metadata": {},
   "source": [
    "# Keeping NaN?\n",
    "I decided to keep NaN in the POSTSEASON/SEED columns as I want to later compare average numbers for all teams in the tournament vs. ones that did not make it each year. Most of the calculations in each exercise create a Boolean mask that will drop these before any calculations to avoid issues.\n",
    "\n",
    "Important! The one part of the dataset that was omitted in the CSV was the 2020 season, as that year's NCAA tournament was canceled because of the pandemic.\n"
   ]
  },
  {
   "cell_type": "code",
   "execution_count": 50,
   "metadata": {},
   "outputs": [
    {
     "name": "stdout",
     "output_type": "stream",
     "text": [
      "                 TEAM CONF   G   W  ADJOE  ADJDE  BARTHAG  EFG_O  EFG_D   TOR  \\\n",
      "56           Duquesne  A10  30  11  107.0  111.7   0.3790   51.2   51.7  18.3   \n",
      "57            Fordham  A10  30   9  101.0  103.0   0.4450   46.7   50.2  22.2   \n",
      "58       George Mason  A10  30   8  101.2  103.8   0.4276   45.5   50.0  21.9   \n",
      "59  George Washington  A10  35  22  107.2   96.2   0.7755   48.9   45.9  18.7   \n",
      "60           La Salle  A10  33  17   98.9   92.9   0.6734   46.7   45.8  19.9   \n",
      "\n",
      "    ...  FTRD  2P_O  2P_D  3P_O  3P_D  ADJ_T   WAB  POSTSEASON  SEED  YEAR  \n",
      "56  ...  33.8  49.5  47.7  36.2  38.5   67.6 -11.3         NaN   NaN  2015  \n",
      "57  ...  41.7  47.8  49.6  29.8  34.1   65.9 -12.3         NaN   NaN  2015  \n",
      "58  ...  44.7  44.9  48.4  31.6  35.3   65.0 -12.6         NaN   NaN  2015  \n",
      "59  ...  28.9  47.3  44.9  35.2  31.9   62.7  -2.3         NaN   NaN  2015  \n",
      "60  ...  34.4  46.1  45.1  32.1  31.6   64.8  -6.3         NaN   NaN  2015  \n",
      "\n",
      "[5 rows x 24 columns]\n"
     ]
    }
   ],
   "source": [
    "df1 = df.copy()\n",
    "\n",
    "mask = df['POSTSEASON'].isnull()\n",
    "df1 = df1[mask]\n",
    "print(df1.head(5))"
   ]
  },
  {
   "cell_type": "markdown",
   "metadata": {},
   "source": [
    "# Exercise 0: Off years for the top teams\n",
    "Let's do a little exploration. In what years has a 1, 2, or 3 seed not won the title? Store the years in a sorted list. Parameters: df: DataFrame containing the dataset Returns: non_champion_years: List containing the years a 1, 2, or 3 seed has not won\n",
    "    "
   ]
  },
  {
   "cell_type": "code",
   "execution_count": 52,
   "metadata": {},
   "outputs": [
    {
     "name": "stdout",
     "output_type": "stream",
     "text": [
      "Years in which a 1, 2, or 3 seed did not win the championship: [2013, 2014, 2015, 2016, 2017, 2018, 2019, 2021, 2022, 2023]\n"
     ]
    }
   ],
   "source": [
    "def count_non_champion_years(df):\n",
    "    non_champion_years = []\n",
    "    non_champions = df[df['POSTSEASON'] != 'Champions']\n",
    "    unique_years = df['YEAR'].unique()\n",
    "    \n",
    "\n",
    "    for year in unique_years:\n",
    "        if (non_champions['SEED'] == 1).any() or (non_champions['SEED'] == 2).any() or (non_champions['SEED'] == 3).any():\n",
    "            non_champion_years.append(year)\n",
    "    \n",
    "    non_champion_years.sort()\n",
    "    \n",
    "    return non_champion_years\n",
    "\n",
    "\n",
    "non_champion_years = count_non_champion_years(df)\n",
    "print(\"Years in which a 1, 2, or 3 seed did not win the championship:\", non_champion_years)\n"
   ]
  },
  {
   "cell_type": "markdown",
   "metadata": {},
   "source": [
    "# Exercise 1: How efficient are the final 4 teams?\n",
    "Calculate the average offensive and defensive efficiencies for each team that made the Final Four each year. Note: Teams that reached the Final Four can be identified by looking at the postseason column. Any team labeled as 2nd or Champion for that year is also considered a Final Four team. Parameters: DataFrame containing the dataset. Returns: team_efficiencies_df: DataFrame containing team efficiencies for each year."
   ]
  },
  {
   "cell_type": "code",
   "execution_count": 53,
   "metadata": {},
   "outputs": [
    {
     "name": "stdout",
     "output_type": "stream",
     "text": [
      "DataFrame with Average Offensive and Defensive Efficiencies for Final Four Teams:\n",
      "    Year              Team  Avg Off Eff  Avg Def Eff\n",
      "0   2013        Louisville        115.9         84.5\n",
      "1   2013          Michigan        121.5         93.7\n",
      "2   2013          Syracuse        113.0         87.0\n",
      "3   2013       Wichita St.        110.6         91.0\n",
      "4   2014       Connecticut        112.5         91.3\n",
      "5   2014           Florida        115.9         88.4\n",
      "6   2014          Kentucky        117.2         96.2\n",
      "7   2014         Wisconsin        122.7         95.9\n",
      "8   2015              Duke        125.2         90.6\n",
      "9   2015          Kentucky        120.3         84.0\n",
      "10  2015      Michigan St.        116.3         92.6\n",
      "11  2015         Wisconsin        129.1         93.6\n",
      "12  2016    North Carolina        123.3         94.9\n",
      "13  2016          Oklahoma        118.2         94.1\n",
      "14  2016          Syracuse        111.9         93.6\n",
      "15  2016         Villanova        123.1         90.9\n",
      "16  2017           Gonzaga        117.8         86.3\n",
      "17  2017    North Carolina        121.0         91.5\n",
      "18  2017            Oregon        117.8         93.8\n",
      "19  2017    South Carolina        108.7         89.0\n",
      "20  2018            Kansas        122.1         96.4\n",
      "21  2018    Loyola Chicago        110.5         95.4\n",
      "22  2018          Michigan        114.4         90.4\n",
      "23  2018         Villanova        128.4         94.1\n",
      "24  2019            Auburn        121.3         95.2\n",
      "25  2019      Michigan St.        119.9         91.0\n",
      "26  2019        Texas Tech        115.2         85.2\n",
      "27  2019          Virginia        123.0         89.9\n",
      "28  2021            Baylor        123.2         94.5\n",
      "29  2021           Gonzaga        125.4         89.8\n",
      "30  2021           Houston        120.6         90.9\n",
      "31  2021              UCLA        112.3         97.5\n",
      "32  2022              Duke        122.7         96.0\n",
      "33  2022            Kansas        119.8         91.3\n",
      "34  2022    North Carolina        114.4         93.5\n",
      "35  2022         Villanova        117.2         93.0\n",
      "36  2023       Connecticut        121.5         91.2\n",
      "37  2023  Florida Atlantic        114.0         95.8\n",
      "38  2023          Miami FL        119.1        100.9\n",
      "39  2023     San Diego St.        110.8         89.5\n"
     ]
    }
   ],
   "source": [
    "def average_efficiencies_final_four_df(df):\n",
    "\n",
    "    final_four_teams = df[df['POSTSEASON'].isin(['F4', 'Champions', '2ND'])]\n",
    "\n",
    "    team_efficiencies = []\n",
    "    for year, year_group in final_four_teams.groupby('YEAR'):\n",
    "        for team, team_group in year_group.groupby('TEAM'):\n",
    "            avg_off_eff = team_group['ADJOE'].mean()\n",
    "            avg_def_eff = team_group['ADJDE'].mean()\n",
    "            team_efficiencies.append([year, team, avg_off_eff, avg_def_eff])\n",
    "    \n",
    "    team_efficiencies_df = pd.DataFrame(team_efficiencies, columns=['Year', 'Team', 'Avg Off Eff', 'Avg Def Eff'])\n",
    "    \n",
    "    return team_efficiencies_df\n",
    "\n",
    "team_efficiencies_final_four_df = average_efficiencies_final_four_df(df)\n",
    "print(\"DataFrame with Average Offensive and Defensive Efficiencies for Final Four Teams:\")\n",
    "print(team_efficiencies_final_four_df)\n"
   ]
  },
  {
   "cell_type": "markdown",
   "metadata": {},
   "source": [
    "# Exercise 2: Average efficiencies?\n",
    "Calculate the average offensive and defensive efficiencies for the year of the Final Four.\n",
    "\n",
    "Parameters: DataFrame containing the data with teams that made the Final Four and their efficiencies.\n",
    "\n",
    "Returns: Nested dictionary that contains the year and the average offensive and defensive ratings."
   ]
  },
  {
   "cell_type": "code",
   "execution_count": 54,
   "metadata": {},
   "outputs": [
    {
     "name": "stdout",
     "output_type": "stream",
     "text": [
      "Nested dictionary of yearly averages of offensive and defensive efficiencies:\n",
      "{2013: {'Avg Off Eff': 115.25, 'Avg Def Eff': 89.05}, 2014: {'Avg Off Eff': 117.08, 'Avg Def Eff': 92.95}, 2015: {'Avg Off Eff': 122.72, 'Avg Def Eff': 90.2}, 2016: {'Avg Off Eff': 119.12, 'Avg Def Eff': 93.38}, 2017: {'Avg Off Eff': 116.32, 'Avg Def Eff': 90.15}, 2018: {'Avg Off Eff': 118.85, 'Avg Def Eff': 94.08}, 2019: {'Avg Off Eff': 119.85, 'Avg Def Eff': 90.32}, 2021: {'Avg Off Eff': 120.38, 'Avg Def Eff': 93.18}, 2022: {'Avg Off Eff': 118.52, 'Avg Def Eff': 93.45}, 2023: {'Avg Off Eff': 116.35, 'Avg Def Eff': 94.35}}\n"
     ]
    }
   ],
   "source": [
    "def calculate_yearly_averages_nested(team_efficiencies_final_four_df):\n",
    "    yearly_averages_nested = {}\n",
    "    for year, group in team_efficiencies_final_four_df.groupby('Year'):\n",
    "        avg_off_eff = round(group['Avg Off Eff'].mean(), 2)\n",
    "        avg_def_eff = round(group['Avg Def Eff'].mean(), 2)\n",
    "        yearly_averages_nested[year] = {'Avg Off Eff': avg_off_eff, 'Avg Def Eff': avg_def_eff}\n",
    "    \n",
    "    return yearly_averages_nested\n",
    "\n",
    "yearly_averages_nested = calculate_yearly_averages_nested(team_efficiencies_final_four_df)\n",
    "print(\"Nested dictionary of yearly averages of offensive and defensive efficiencies:\")\n",
    "print(yearly_averages_nested)\n"
   ]
  },
  {
   "cell_type": "markdown",
   "metadata": {},
   "source": [
    "# Graph the average offensive and defensive efficiencies for the year of the Final Four.\n"
   ]
  },
  {
   "cell_type": "code",
   "execution_count": 55,
   "metadata": {},
   "outputs": [
    {
     "data": {
      "image/png": "[encoded data removed]",
      "text/plain": [
       "<Figure size 720x432 with 1 Axes>"
      ]
     },
     "metadata": {
      "needs_background": "light"
     },
     "output_type": "display_data"
    }
   ],
   "source": [
    "import matplotlib.pyplot as plt\n",
    "\n",
    "def visualize_efficiencies(team_efficiencies_final_four_df):\n",
    "    # Group data by year\n",
    "    grouped_data = team_efficiencies_final_four_df.groupby('Year').mean()\n",
    "\n",
    "    # Plotting\n",
    "    fig, ax = plt.subplots(figsize=(10, 6))\n",
    "    ax.plot(grouped_data.index, grouped_data['Avg Off Eff'], label='Average Offensive Efficiency', marker='o')\n",
    "    ax.plot(grouped_data.index, grouped_data['Avg Def Eff'], label='Average Defensive Efficiency', marker='o')\n",
    "\n",
    "    # Adding labels and title\n",
    "    ax.set_xlabel('Year')\n",
    "    ax.set_ylabel('Efficiency')\n",
    "    ax.set_title('Average Offensive and Defensive Efficiencies for Final Four Teams Over the Years')\n",
    "    \n",
    "    # Adding legend\n",
    "    ax.legend()\n",
    "\n",
    "    # Display plot\n",
    "    plt.grid(True)\n",
    "    plt.xticks(grouped_data.index)\n",
    "    plt.tight_layout()\n",
    "    plt.show()\n",
    "\n",
    "# Visualize the efficiencies\n",
    "visualize_efficiencies(team_efficiencies_final_four_df)\n"
   ]
  },
  {
   "cell_type": "markdown",
   "metadata": {},
   "source": [
    "# Display as a DF"
   ]
  },
  {
   "cell_type": "code",
   "execution_count": 56,
   "metadata": {},
   "outputs": [
    {
     "name": "stdout",
     "output_type": "stream",
     "text": [
      "DataFrame of yearly averages of offensive and defensive efficiencies:\n",
      "      Avg Off Eff  Avg Def Eff\n",
      "2013       115.25        89.05\n",
      "2014       117.08        92.95\n",
      "2015       122.72        90.20\n",
      "2016       119.12        93.38\n",
      "2017       116.32        90.15\n",
      "2018       118.85        94.08\n",
      "2019       119.85        90.32\n",
      "2021       120.38        93.18\n",
      "2022       118.52        93.45\n",
      "2023       116.35        94.35\n"
     ]
    }
   ],
   "source": [
    "yearly_averages_df = pd.DataFrame(yearly_averages_nested).transpose()\n",
    "\n",
    "# Display the DataFrame\n",
    "print(\"DataFrame of yearly averages of offensive and defensive efficiencies:\")\n",
    "print(yearly_averages_df)"
   ]
  },
  {
   "cell_type": "markdown",
   "metadata": {},
   "source": [
    "# Excercise 3: Underperforming Teams?\n",
    "Let's examine the teams with the highest ADJOE and lowest ADJDE (lower is better for ADJDE) that did not make the Final Four. Surprisingly, one of them did not even make it to the tournament. This could be attributed to the reduced number of games played during the 2021 season due to the pandemic."
   ]
  },
  {
   "cell_type": "code",
   "execution_count": 57,
   "metadata": {},
   "outputs": [
    {
     "name": "stdout",
     "output_type": "stream",
     "text": [
      "             TEAM  CONF   G   W  ADJOE  ADJDE POSTSEASON  SEED  YEAR\n",
      "2342    Wisconsin   B10  35  23  107.2   84.3        R64   5.0  2013\n",
      "34        Arizona   P12  38  33  116.2   87.4         E8   1.0  2014\n",
      "2040     Virginia   ACC  34  30  112.1   84.1        R32   2.0  2015\n",
      "2094  Wichita St.   MVC  34  25  110.3   87.8        R32  11.0  2016\n",
      "2045     Virginia   ACC  34  23  111.8   86.9        R32   5.0  2017\n",
      "2161     Virginia   ACC  34  31  114.6   86.7        R64   1.0  2018\n",
      "2416     Michigan   B10  37  30  114.6   85.6        S16   2.0  2019\n",
      "2776      Memphis  Amer  24  16  103.2   86.3        NaN   NaN  2021\n",
      "2810   Texas Tech   B12  37  27  110.5   85.4        S16   3.0  2022\n",
      "3175    Tennessee   SEC  36  25  111.2   87.5        S16   4.0  2023\n"
     ]
    }
   ],
   "source": [
    "def add_team_stats(df):\n",
    "    non_final_four_teams = df[~df['POSTSEASON'].isin(['F4', 'Champions', '2ND'])]\n",
    "    top_teams_indices = non_final_four_teams.groupby('YEAR').apply(lambda x: x['ADJDE'].idxmin())\n",
    "    top_teams = non_final_four_teams.loc[top_teams_indices]\n",
    "    top_teams = top_teams[['TEAM', 'CONF', 'G', 'W', 'ADJOE', 'ADJDE', 'POSTSEASON', 'SEED', 'YEAR']]\n",
    "    return top_teams\n",
    "\n",
    "top_teams_non_final_four = add_team_stats(df)\n",
    "print(top_teams_non_final_four)\n"
   ]
  },
  {
   "cell_type": "markdown",
   "metadata": {},
   "source": [
    "# Excercise 4: Best Team not to win it all?\n",
    "Lets look at the team with the highest ADJOE and lowest ADJDE (low is good for ADJDE) that did not win the championship. "
   ]
  },
  {
   "cell_type": "code",
   "execution_count": 58,
   "metadata": {},
   "outputs": [
    {
     "name": "stdout",
     "output_type": "stream",
     "text": [
      "             TEAM  CONF   G   W  ADJOE  ADJDE POSTSEASON  SEED  YEAR\n",
      "2342    Wisconsin   B10  35  23  107.2   84.3        R64   5.0  2013\n",
      "34        Arizona   P12  38  33  116.2   87.4         E8   1.0  2014\n",
      "49       Kentucky   SEC  39  38  120.3   84.0         F4   1.0  2015\n",
      "2094  Wichita St.   MVC  34  25  110.3   87.8        R32  11.0  2016\n",
      "4         Gonzaga   WCC  39  37  117.8   86.3        2ND   1.0  2017\n",
      "2161     Virginia   ACC  34  31  114.6   86.7        R64   1.0  2018\n",
      "3      Texas Tech   B12  38  31  115.2   85.2        2ND   3.0  2019\n",
      "2776      Memphis  Amer  24  16  103.2   86.3        NaN   NaN  2021\n",
      "2810   Texas Tech   B12  37  27  110.5   85.4        S16   3.0  2022\n",
      "3175    Tennessee   SEC  36  25  111.2   87.5        S16   4.0  2023\n"
     ]
    }
   ],
   "source": [
    "def teams(df):\n",
    "    non_final_four_teams = df[~df['POSTSEASON'].isin(['Champions'])]\n",
    "    top_teams_indices = non_final_four_teams.groupby('YEAR').apply(lambda x: x['ADJDE'].idxmin())\n",
    "    top_teams = non_final_four_teams.loc[top_teams_indices]\n",
    "    top_teams = top_teams[['TEAM', 'CONF', 'G', 'W', 'ADJOE', 'ADJDE', 'POSTSEASON', 'SEED', 'YEAR']]\n",
    "    return top_teams\n",
    "\n",
    "top_teams = teams(df)\n",
    "print(top_teams)"
   ]
  },
  {
   "cell_type": "markdown",
   "metadata": {},
   "source": [
    "# Excercise 5: Best Team not to make it?\n",
    "Lets look at the team with the highest ADJOE and lowest ADJDE (low is good for ADJDE) that did not make the tournament. "
   ]
  },
  {
   "cell_type": "code",
   "execution_count": 59,
   "metadata": {},
   "outputs": [
    {
     "name": "stdout",
     "output_type": "stream",
     "text": [
      "                   TEAM  CONF   G   W  ADJOE  ADJDE POSTSEASON  SEED  YEAR\n",
      "1894  Stephen F. Austin  Slnd  28  23   98.0   88.7        NaN   NaN  2013\n",
      "1570           Illinois   B10  35  20  105.4   93.1        NaN   NaN  2014\n",
      "1212            Florida   SEC  33  16  105.8   89.4        NaN   NaN  2015\n",
      "125          Louisville   ACC  31  23  111.5   89.6        NaN   NaN  2016\n",
      "131        Georgia Tech   ACC  36  21   99.4   90.6        NaN   NaN  2017\n",
      "222                 UCF  Amer  32  19   97.4   93.5        NaN   NaN  2018\n",
      "142             Clemson   ACC  34  20  107.2   90.3        NaN   NaN  2019\n",
      "2776            Memphis  Amer  24  16  103.2   86.3        NaN   NaN  2021\n",
      "2872       Oklahoma St.   B12  30  15  102.9   88.0        NaN   NaN  2022\n",
      "3457            Rutgers   B10  34  19  105.4   91.0        NaN   NaN  2023\n"
     ]
    }
   ],
   "source": [
    "def teams(df):\n",
    "    non_final_four_teams = df[df['POSTSEASON'].isna()]\n",
    "    top_teams_indices = non_final_four_teams.groupby('YEAR').apply(lambda x: x['ADJDE'].idxmin())\n",
    "    top_teams = non_final_four_teams.loc[top_teams_indices]\n",
    "    top_teams = top_teams[['TEAM', 'CONF', 'G', 'W', 'ADJOE', 'ADJDE', 'POSTSEASON', 'SEED', 'YEAR']]\n",
    "    return top_teams\n",
    "\n",
    "top_teams = teams(df)\n",
    "print(top_teams)\n"
   ]
  },
  {
   "cell_type": "markdown",
   "metadata": {},
   "source": [
    "# Excercise 6: Compare Averages\n",
    "\n",
    "Run the code cell below to calculate the average offensive and defensive efficiency for teams in the tournament that did not make the Final Four compared to those that did.\n",
    "\n",
    "**IMPORTANT!** Two notes:\n",
    "1. For the average, we excluded teams with NaN in the POSTSEASON column to eliminate teams that missed the tournament.\n",
    "2. You will be prompted to enter two values after the code cell runs:\n",
    "   - The first is whether you want to compare all the tournament teams against the Final Four teams. If so, please enter \"NO\" and run the next cell to graph.\n",
    "   - If you want to refine the comparison by narrowing down the seeds (e.g., excluding mid-major at-large bids), enter \"YES\" for the first question and specify a range of seeds for the second question (1 being the highest). If you're not familiar with college basketball seeding, feel free to enter \n"
   ]
  },
  {
   "cell_type": "code",
   "execution_count": 60,
   "metadata": {},
   "outputs": [
    {
     "name": "stdout",
     "output_type": "stream",
     "text": [
      "Would you like to filter out the lower seeds? (yes/no): no\n",
      "Nested dictionary of yearly averages of offensive and defensive efficiencies for non-final four teams:\n",
      "{2013: {'Avg Off Eff': 108.78, 'Avg Def Eff': 94.37}, 2014: {'Avg Off Eff': 112.05, 'Avg Def Eff': 97.93}, 2015: {'Avg Off Eff': 110.19, 'Avg Def Eff': 96.22}, 2016: {'Avg Off Eff': 111.2, 'Avg Def Eff': 97.66}, 2017: {'Avg Off Eff': 112.75, 'Avg Def Eff': 97.63}, 2018: {'Avg Off Eff': 111.75, 'Avg Def Eff': 98.21}, 2019: {'Avg Off Eff': 110.78, 'Avg Def Eff': 96.86}, 2021: {'Avg Off Eff': 109.31, 'Avg Def Eff': 95.54}, 2022: {'Avg Off Eff': 109.27, 'Avg Def Eff': 95.95}, 2023: {'Avg Off Eff': 111.64, 'Avg Def Eff': 97.97}}\n"
     ]
    }
   ],
   "source": [
    "def parse_seed_filter(seed_filter_input):\n",
    "    seed_filter = []\n",
    "    try:\n",
    "        min_seed, max_seed = map(int, seed_filter_input.split('-'))\n",
    "        seed_filter.extend(range(min_seed, max_seed + 1))\n",
    "    except ValueError:\n",
    "        seed_filter = [int(seed.strip()) for seed in seed_filter_input.split(',')]\n",
    "    return seed_filter\n",
    "\n",
    "def calculate_non_final_four_yearly_averages(team_efficiencies_final_four_df, df, seed_filter=None):\n",
    "    # Exclude teams with NaN in the POSTSEASON column\n",
    "    if seed_filter:\n",
    "        non_final_four_teams = df[(df['SEED'].isin(seed_filter)) & (df['POSTSEASON'].notna()) & (~df['POSTSEASON'].isin(['F4', 'Champions', '2ND']))]\n",
    "    else:\n",
    "        non_final_four_teams = df[(df['POSTSEASON'].notna()) & (~df['POSTSEASON'].isin(['F4', 'Champions', '2ND']))]\n",
    "    \n",
    "    yearly_averages_nested = {}\n",
    "    for year, group in non_final_four_teams.groupby('YEAR'):\n",
    "        avg_off_eff = round(group['ADJOE'].mean(), 2)\n",
    "        avg_def_eff = round(group['ADJDE'].mean(), 2)\n",
    "        yearly_averages_nested[year] = {'Avg Off Eff': avg_off_eff, 'Avg Def Eff': avg_def_eff}\n",
    "    \n",
    "    return yearly_averages_nested\n",
    "\n",
    "# Prompt the user if they want to filter out lower seeds\n",
    "filter_lower_seeds = input(\"Would you like to filter out the lower seeds? (yes/no): \")\n",
    "if filter_lower_seeds.lower() == 'yes':\n",
    "    # Prompt the user for seed filter input\n",
    "    seed_filter_input = input(\"Enter seed filter (e.g., '1-12', '5,6,7'): \")\n",
    "    seed_filter = parse_seed_filter(seed_filter_input)\n",
    "else:\n",
    "    seed_filter = None\n",
    "\n",
    "# Calculate non-final four yearly averages with optional seed filter\n",
    "yearly_averages_non_final_four_nested = calculate_non_final_four_yearly_averages(team_efficiencies_final_four_df, df, seed_filter)\n",
    "print(\"Nested dictionary of yearly averages of offensive and defensive efficiencies for non-final four teams:\")\n",
    "print(yearly_averages_non_final_four_nested)\n"
   ]
  },
  {
   "cell_type": "markdown",
   "metadata": {},
   "source": [
    "# Graph the comparison:\n",
    "Run the code cell below to visualize how the offensive and defensive efficiencies of teams in the Final Four compare to those that did not make it.\n",
    "\n"
   ]
  },
  {
   "cell_type": "code",
   "execution_count": 61,
   "metadata": {},
   "outputs": [
    {
     "data": {
      "image/png": "[encoded data removed]",
      "text/plain": [
       "<Figure size 720x432 with 1 Axes>"
      ]
     },
     "metadata": {
      "needs_background": "light"
     },
     "output_type": "display_data"
    }
   ],
   "source": [
    "import matplotlib.pyplot as plt\n",
    "\n",
    "# Calculate average efficiencies for non-final four teams\n",
    "non_final_four_avg_efficiencies = calculate_non_final_four_yearly_averages(team_efficiencies_final_four_df, df, seed_filter)\n",
    "\n",
    "# Get average offensive and defensive efficiencies for non-final four teams by year\n",
    "non_final_four_avg_off_eff = [efficiency['Avg Off Eff'] for year, efficiency in non_final_four_avg_efficiencies.items()]\n",
    "non_final_four_avg_def_eff = [efficiency['Avg Def Eff'] for year, efficiency in non_final_four_avg_efficiencies.items()]\n",
    "\n",
    "# Plotting the data\n",
    "plt.figure(figsize=(10, 6))\n",
    "\n",
    "# Plotting final four team averages\n",
    "plt.plot(yearly_averages_df.index, yearly_averages_df['Avg Off Eff'], marker='o', label='Final Four Avg Off Eff')\n",
    "plt.plot(yearly_averages_df.index, yearly_averages_df['Avg Def Eff'], marker='o', label='Final Four Avg Def Eff')\n",
    "\n",
    "# Plotting non-final four team averages\n",
    "plt.plot(yearly_averages_df.index, non_final_four_avg_off_eff, color='orange', linestyle='--', label='Non-Final Four Avg Off Eff')\n",
    "plt.plot(yearly_averages_df.index, non_final_four_avg_def_eff, color='purple', linestyle='--', label='Non-Final Four Avg Def Eff')\n",
    "\n",
    "plt.xlabel('Year')\n",
    "plt.ylabel('Efficiency')\n",
    "plt.title('Average Offensive and Defensive Efficiencies')\n",
    "plt.legend()\n",
    "plt.grid(True)\n",
    "plt.xticks(yearly_averages_df.index)\n",
    "plt.tight_layout()\n",
    "\n",
    "# Display the plot\n",
    "plt.show()\n"
   ]
  },
  {
   "cell_type": "markdown",
   "metadata": {},
   "source": [
    "# Final Thoughts:\n",
    "    \n",
    "As a basketball fan it was fun to delve into the realm of NCAA basketball championships through data analysis. My investigation has uncovered several intriguing aspects, from pinpointing off years for top seeds to dissecting the efficiencies of Final Four teams over the years. Here's a recap of my findings:\n",
    "\n",
    "Off Years for Top Seeds:\n",
    "I stumbled upon the revelation that in certain years, teams seeded 1, 2, or 3 failed to clinch the championship. This discovery prompts me to delve deeper into the contributing factors behind these unexpected upsets.\n",
    "\n",
    "Efficiency of Final Four Teams:\n",
    "By scrutinizing the offensive and defensive efficiencies of Final Four teams, I gained valuable insights into their performance levels. This analysis revealed noteworthy trends and variations in team strategies and capabilities across different seasons.\n",
    "\n",
    "Yearly Averages of Efficiencies:\n",
    "Visualizing the yearly averages of offensive and defensive efficiencies provided me with a clear picture of how these metrics evolved over time. It offered valuable insights into the overarching trends in team performance dynamics.\n",
    "\n",
    "Underperforming Teams:\n",
    "I identified teams boasting high offensive efficiency but lacking in defensive efficiency that failed to make it to the Final Four. This analysis underscores the crucial importance of maintaining a balanced performance across both offensive and defensive aspects.This one hurt as I am a Wisconsin fan and seeing Wisconsin lose in the round of 64 in 2013 brought back bad memories. \n",
    "\n",
    "Best Team Not to Win:\n",
    "Through my investigation, I pinpointed the best-performing team that fell short of winning the championship. This highlighted instances where exceptional performance did not translate into ultimate success on the grand stage.\n",
    "\n",
    "Best Team Not to Make It:\n",
    "Exploring the team with the highest offensive efficiency and lowest defensive efficiency that didn't even secure a spot in the tournament emphasized the inherent unpredictability of sports outcomes.\n",
    "\n",
    "Comparative Analysis:\n",
    "Lastly, comparing the average efficiencies of tournament teams that didn't make the Final Four against those that did provided valuable insights into the performance gap between top-performing teams and the rest of the field."
   ]
  },
  {
   "cell_type": "code",
   "execution_count": null,
   "metadata": {
    "collapsed": true
   },
   "outputs": [],
   "source": []
  }
 ],
 "metadata": {
  "kernelspec": {
   "display_name": "Python 3.8",
   "language": "python",
   "name": "python38"
  },
  "language_info": {
   "codemirror_mode": {
    "name": "ipython",
    "version": 3
   },
   "file_extension": ".py",
   "mimetype": "text/x-python",
   "name": "python",
   "nbconvert_exporter": "python",
   "pygments_lexer": "ipython3",
   "version": "3.8.7"
  }
 },
 "nbformat": 4,
 "nbformat_minor": 2
}
